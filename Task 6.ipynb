{
 "cells": [
  {
   "cell_type": "code",
   "execution_count": 1,
   "id": "1464ba59",
   "metadata": {},
   "outputs": [],
   "source": [
    "import nltk\n",
    "from sklearn.feature_extraction.text import CountVectorizer"
   ]
  },
  {
   "cell_type": "code",
   "execution_count": 2,
   "id": "ef960076",
   "metadata": {},
   "outputs": [],
   "source": [
    "vect = CountVectorizer(binary=True)"
   ]
  },
  {
   "cell_type": "code",
   "execution_count": 3,
   "id": "65a35a76",
   "metadata": {},
   "outputs": [],
   "source": [
    "corpus = [\"I have a German Shephard\", \"German Shephard is from Germany\", \"German loves gossiping\"]"
   ]
  },
  {
   "cell_type": "code",
   "execution_count": 4,
   "id": "119345bd",
   "metadata": {},
   "outputs": [
    {
     "data": {
      "text/plain": [
       "CountVectorizer(binary=True)"
      ]
     },
     "execution_count": 4,
     "metadata": {},
     "output_type": "execute_result"
    }
   ],
   "source": [
    "vect.fit(corpus)"
   ]
  },
  {
   "cell_type": "code",
   "execution_count": 5,
   "id": "667202fd",
   "metadata": {},
   "outputs": [],
   "source": [
    "vocab=vect.vocabulary_"
   ]
  },
  {
   "cell_type": "code",
   "execution_count": 6,
   "id": "4ee8da7c",
   "metadata": {
    "scrolled": false
   },
   "outputs": [
    {
     "name": "stdout",
     "output_type": "stream",
     "text": [
      "from:0\n",
      "german:1\n",
      "germany:2\n",
      "gossiping:3\n",
      "have:4\n",
      "is:5\n",
      "loves:6\n",
      "shephard:7\n"
     ]
    }
   ],
   "source": [
    "for key in sorted(vocab.keys()):\n",
    "    print(\"{}:{}\".format(key, vocab[key]))"
   ]
  },
  {
   "cell_type": "code",
   "execution_count": 7,
   "id": "4d24451a",
   "metadata": {},
   "outputs": [],
   "source": [
    "#These are first paragraph about german shephard, one on wikipedia and other on britannica.com\n",
    "document1=\"German Shepherd dog, breed of working dog developed in Germany from traditional herding and farm dogs. A strongly built and relatively long-bodied dog, the German Shepherd stands 22 to 26 inches (56 to 66 cm) tall at the withers and weighs 75 to 95 pounds (34 to 43 kg)\";\n",
    "document2=\"The German Shepherd[a] or Alsatian is a German breed of working dog of medium to large size. The breed was developed by Max von Stephanitz using various traditional German herding dogs from 1899. It was originally bred as a herding dog, for herding sheep. It has since been used in many other types of work, including disability assistance, search-and-rescue, police work, and warfare. It is commonly kept as a companion dog, and according to the Fédération Cynologique Internationale had the second-highest number of annual registrations in 2013.\";"
   ]
  },
  {
   "cell_type": "code",
   "execution_count": 8,
   "id": "233831a2",
   "metadata": {},
   "outputs": [
    {
     "name": "stdout",
     "output_type": "stream",
     "text": [
      "66.6667 %\n"
     ]
    }
   ],
   "source": [
    "# Comparing two documents\n",
    "from sklearn.metrics.pairwise import cosine_similarity\n",
    "similarity = cosine_similarity((vect.transform([document1])),(vect.transform([document2])))\n",
    "val = similarity*100\n",
    "print(round(val[0][0],4), \"%\")"
   ]
  },
  {
   "cell_type": "code",
   "execution_count": 9,
   "id": "e594d2e0",
   "metadata": {},
   "outputs": [],
   "source": [
    "#I have taken the top 3 arcticles from the SUCCESS magazine. \n",
    "#I have compared the first paragraph of all the three articles in order to find out \n",
    "#if the magazine has creativity and it brings in creativity in every new article.\n"
   ]
  },
  {
   "cell_type": "code",
   "execution_count": 10,
   "id": "bf018916",
   "metadata": {},
   "outputs": [],
   "source": [
    "#Creating a corpus of first paragraphs of 3 - 4 articles . \n",
    "# Then we take a recent article and do comparison with the corpus.\n",
    "# if the similarity is < 50% then the writer is creative\n",
    "corpus1=[\"Left to my own devices, I’m lazy as hell.During one period of my life, I would stay in bed for hours in the morning because I was too cold and lazy to get up and put a sweatshirt on.As a child, I showed no early signs of promise whatsoever. My own mother, who was always my biggest champion, just quietly assumed I was going to fail in life.And yet today, I’m a successful entrepreneur who co-founded the company Quest Nutrition, which was valued at over a billion dollars, and I’ve since gone on to found Impact Theory, a company whose content, when combined with my past show Inside Quest, has been viewed more than 165 million times.\",\"When I came across the notion that I could get good at anything I set my mind to, I was blown away. The whole idea that you can’t teach old dogs new tricks has now been debunked (both for humans and for dogs). Thankfully, the brain is far more plastic than people used to believe, and you can shape your mind through disciplined practice. So just because you’re bad at something today doesn’t mean you have to keep being bad at it tomorrow.\",\"I know success leaves clues. It’s why I’m so interested in the routines and habits of the most successful people. I’ve found once I implement behaviors that have been proven to work, I always experience positive change.And how do I know that these behaviors are proven? Because of the results that they create for tons of successful people―and because they are backed by science.\"]\n"
   ]
  },
  {
   "cell_type": "code",
   "execution_count": 11,
   "id": "8670b3bf",
   "metadata": {},
   "outputs": [],
   "source": [
    "vector=CountVectorizer(binary=True)"
   ]
  },
  {
   "cell_type": "code",
   "execution_count": 12,
   "id": "5d0c70bb",
   "metadata": {},
   "outputs": [
    {
     "data": {
      "text/plain": [
       "CountVectorizer(binary=True)"
      ]
     },
     "execution_count": 12,
     "metadata": {},
     "output_type": "execute_result"
    }
   ],
   "source": [
    "vector.fit(corpus1)"
   ]
  },
  {
   "cell_type": "code",
   "execution_count": 13,
   "id": "0eb088f1",
   "metadata": {},
   "outputs": [],
   "source": [
    "vocab=vector.vocabulary_"
   ]
  },
  {
   "cell_type": "code",
   "execution_count": 14,
   "id": "987be16f",
   "metadata": {},
   "outputs": [
    {
     "name": "stdout",
     "output_type": "stream",
     "text": [
      "165:0\n",
      "across:1\n",
      "always:2\n",
      "and:3\n",
      "anything:4\n",
      "are:5\n",
      "as:6\n",
      "assumed:7\n",
      "at:8\n",
      "away:9\n",
      "backed:10\n",
      "bad:11\n",
      "because:12\n",
      "bed:13\n",
      "been:14\n",
      "behaviors:15\n",
      "being:16\n",
      "believe:17\n",
      "biggest:18\n",
      "billion:19\n",
      "blown:20\n",
      "both:21\n",
      "brain:22\n",
      "by:23\n",
      "came:24\n",
      "can:25\n",
      "champion:26\n",
      "change:27\n",
      "child:28\n",
      "clues:29\n",
      "co:30\n",
      "cold:31\n",
      "combined:32\n",
      "company:33\n",
      "content:34\n",
      "could:35\n",
      "create:36\n",
      "debunked:37\n",
      "devices:38\n",
      "disciplined:39\n",
      "do:40\n",
      "doesn:41\n",
      "dogs:42\n",
      "dollars:43\n",
      "during:44\n",
      "early:45\n",
      "entrepreneur:46\n",
      "experience:47\n",
      "fail:48\n",
      "far:49\n",
      "for:50\n",
      "found:51\n",
      "founded:52\n",
      "get:53\n",
      "going:54\n",
      "gone:55\n",
      "good:56\n",
      "habits:57\n",
      "has:58\n",
      "have:59\n",
      "hell:60\n",
      "hours:61\n",
      "how:62\n",
      "humans:63\n",
      "idea:64\n",
      "impact:65\n",
      "implement:66\n",
      "in:67\n",
      "inside:68\n",
      "interested:69\n",
      "is:70\n",
      "it:71\n",
      "just:72\n",
      "keep:73\n",
      "know:74\n",
      "lazy:75\n",
      "leaves:76\n",
      "left:77\n",
      "life:78\n",
      "mean:79\n",
      "million:80\n",
      "mind:81\n",
      "more:82\n",
      "morning:83\n",
      "most:84\n",
      "mother:85\n",
      "my:86\n",
      "new:87\n",
      "no:88\n",
      "notion:89\n",
      "now:90\n",
      "nutrition:91\n",
      "of:92\n",
      "old:93\n",
      "on:94\n",
      "once:95\n",
      "one:96\n",
      "over:97\n",
      "own:98\n",
      "past:99\n",
      "people:100\n",
      "period:101\n",
      "plastic:102\n",
      "positive:103\n",
      "practice:104\n",
      "promise:105\n",
      "proven:106\n",
      "put:107\n",
      "quest:108\n",
      "quietly:109\n",
      "re:110\n",
      "results:111\n",
      "routines:112\n",
      "science:113\n",
      "set:114\n",
      "shape:115\n",
      "show:116\n",
      "showed:117\n",
      "signs:118\n",
      "since:119\n",
      "so:120\n",
      "something:121\n",
      "stay:122\n",
      "success:123\n",
      "successful:124\n",
      "sweatshirt:125\n",
      "teach:126\n",
      "than:127\n",
      "thankfully:128\n",
      "that:129\n",
      "the:130\n",
      "theory:131\n",
      "these:132\n",
      "they:133\n",
      "through:134\n",
      "times:135\n",
      "to:136\n",
      "today:137\n",
      "tomorrow:138\n",
      "tons:139\n",
      "too:140\n",
      "tricks:141\n",
      "up:142\n",
      "used:143\n",
      "valued:144\n",
      "ve:145\n",
      "viewed:146\n",
      "was:147\n",
      "whatsoever:148\n",
      "when:149\n",
      "which:150\n",
      "who:151\n",
      "whole:152\n",
      "whose:153\n",
      "why:154\n",
      "with:155\n",
      "work:156\n",
      "would:157\n",
      "yet:158\n",
      "you:159\n",
      "your:160\n"
     ]
    }
   ],
   "source": [
    "for key in sorted(vocab.keys()):\n",
    "    print(\"{}:{}\".format(key, vocab[key]))"
   ]
  },
  {
   "cell_type": "code",
   "execution_count": 15,
   "id": "b563a46e",
   "metadata": {},
   "outputs": [],
   "source": [
    "doc1=\"I expect I’m going to hate this.Tomorrow I’m going to start waking up at 4:30 a.m. every day for a month. The goal is, in theory, to become more disciplined in general and do something I’ve always wanted to do but never had the time—to see if Type A early risers and old-fashioned grandparents have been right all along: that the key to success is simply to get started before most people can bear.\";\n",
    "doc2=\"Wouldn’t you prefer a life of productivity rather than a life of endless tasks with little accomplishment? Of course! When you carefully set your goals and keep them at the forefront of your mind, you can work smarter instead of longer. You’ll know that a life worth living comes from a life of balance.In order to maintain that balance, here’s a key technique you can use in your life to help keep you on the right track: visual chain thinking.Ambitious people know that each step toward their goals is not a singular step. Each discipline is not a singular discipline. Each project is not a singular project. They see everything they do—and every discipline they adhere to—as a link in the chain of events and actions that will lead them to their final destination. Every action and every discipline achieved today is a link in the chain. Every action and every discipline achieved tomorrow is a link. And every action and every discipline achieved in the more distant future is also a link.\";"
   ]
  },
  {
   "cell_type": "code",
   "execution_count": 16,
   "id": "7329da31",
   "metadata": {},
   "outputs": [
    {
     "name": "stdout",
     "output_type": "stream",
     "text": [
      "43.6436 %\n"
     ]
    }
   ],
   "source": [
    "# Comparing two documents\n",
    "from sklearn.metrics.pairwise import cosine_similarity\n",
    "similarity = cosine_similarity((vector.transform([doc1])),(vector.transform([doc2])))\n",
    "val = similarity*100\n",
    "print(round(val[0][0],4), \"%\")"
   ]
  },
  {
   "cell_type": "code",
   "execution_count": 17,
   "id": "6d16f2ef",
   "metadata": {},
   "outputs": [],
   "source": [
    "#From this we can conclude that the first paragraphs articles of SUCCESS magazine have a similarity of 43.64 % and \n",
    "#thus SUCCESS magazine creates new articles with a lot of creativity and all their articles are unique."
   ]
  }
 ],
 "metadata": {
  "kernelspec": {
   "display_name": "Python 3 (ipykernel)",
   "language": "python",
   "name": "python3"
  },
  "language_info": {
   "codemirror_mode": {
    "name": "ipython",
    "version": 3
   },
   "file_extension": ".py",
   "mimetype": "text/x-python",
   "name": "python",
   "nbconvert_exporter": "python",
   "pygments_lexer": "ipython3",
   "version": "3.9.7"
  }
 },
 "nbformat": 4,
 "nbformat_minor": 5
}
