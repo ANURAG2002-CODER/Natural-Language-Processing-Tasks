{
 "cells": [
  {
   "cell_type": "code",
   "execution_count": 4,
   "id": "9c83a113",
   "metadata": {},
   "outputs": [],
   "source": [
    "from urllib  import request"
   ]
  },
  {
   "cell_type": "code",
   "execution_count": 5,
   "id": "f7aa91c2",
   "metadata": {},
   "outputs": [],
   "source": [
    "url=\"https://www.gutenberg.org/cache/epub/69964/pg69964.txt\";"
   ]
  },
  {
   "cell_type": "code",
   "execution_count": 6,
   "id": "2aee4ec7",
   "metadata": {},
   "outputs": [],
   "source": [
    "response = request.urlopen(url)"
   ]
  },
  {
   "cell_type": "code",
   "execution_count": 7,
   "id": "7421332b",
   "metadata": {},
   "outputs": [],
   "source": [
    "raw=response.read().decode('utf8')"
   ]
  },
  {
   "cell_type": "code",
   "execution_count": 8,
   "id": "c5f63ba3",
   "metadata": {},
   "outputs": [],
   "source": [
    "import nltk\n",
    "from nltk.tokenize import word_tokenize\n",
    "tokens = word_tokenize(raw)"
   ]
  },
  {
   "cell_type": "code",
   "execution_count": 9,
   "id": "1a557d6a",
   "metadata": {},
   "outputs": [
    {
     "name": "stdout",
     "output_type": "stream",
     "text": [
      "['\\ufeffThe', 'Project', 'Gutenberg', 'eBook', 'of', 'History', 'of', 'the', 'war', 'in', 'the', 'Peninsula', 'and', 'in', 'the', 'south', 'of', 'France', ':', 'from']\n"
     ]
    }
   ],
   "source": [
    "print(tokens[:20])"
   ]
  },
  {
   "cell_type": "code",
   "execution_count": 11,
   "id": "ab25c6e1",
   "metadata": {},
   "outputs": [
    {
     "data": {
      "text/plain": [
       "'happi'"
      ]
     },
     "execution_count": 11,
     "metadata": {},
     "output_type": "execute_result"
    }
   ],
   "source": [
    "from nltk.stem import PorterStemmer\n",
    "porter = PorterStemmer()\n",
    "porter.stem('happiness') #cling ring"
   ]
  },
  {
   "cell_type": "code",
   "execution_count": 13,
   "id": "2fda0d69",
   "metadata": {},
   "outputs": [
    {
     "data": {
      "text/plain": [
       "'happy'"
      ]
     },
     "execution_count": 13,
     "metadata": {},
     "output_type": "execute_result"
    }
   ],
   "source": [
    "from nltk.stem import LancasterStemmer\n",
    "porter = LancasterStemmer()\n",
    "porter.stem('happiness') #cling ring"
   ]
  },
  {
   "cell_type": "code",
   "execution_count": 14,
   "id": "03f03aa7",
   "metadata": {},
   "outputs": [
    {
     "data": {
      "text/plain": [
       "'s'"
      ]
     },
     "execution_count": 14,
     "metadata": {},
     "output_type": "execute_result"
    }
   ],
   "source": [
    "from nltk.stem import RegexpStemmer\n",
    "porter = RegexpStemmer('ing')\n",
    "porter.stem('singing') #cling ring"
   ]
  },
  {
   "cell_type": "code",
   "execution_count": 16,
   "id": "3b6becf5",
   "metadata": {},
   "outputs": [
    {
     "data": {
      "text/plain": [
       "'avoir'"
      ]
     },
     "execution_count": 16,
     "metadata": {},
     "output_type": "execute_result"
    }
   ],
   "source": [
    "from nltk.stem import SnowballStemmer\n",
    "porter = SnowballStemmer('french')\n",
    "porter.stem('avoir') #cling ring"
   ]
  },
  {
   "cell_type": "code",
   "execution_count": 19,
   "id": "148e440c",
   "metadata": {},
   "outputs": [],
   "source": [
    "from nltk.stem import PorterStemmer\n",
    "porter = PorterStemmer()\n",
    "text=\"The troops being immediately ordered to advance were soon across the ditch, and upon the breach at the same instant with the ninety-fourth who had advanced along the ditch.\"\n",
    "text=[porter.stem(token) for token in text.split(\" \")] #cling ring"
   ]
  },
  {
   "cell_type": "code",
   "execution_count": 20,
   "id": "bfce93e6",
   "metadata": {},
   "outputs": [
    {
     "name": "stdout",
     "output_type": "stream",
     "text": [
      "the troop be immedi order to advanc were soon across the ditch, and upon the breach at the same instant with the ninety-fourth who had advanc along the ditch.\n"
     ]
    }
   ],
   "source": [
    "print(\" \".join(text))"
   ]
  },
  {
   "cell_type": "code",
   "execution_count": 21,
   "id": "ba2e0e4d",
   "metadata": {},
   "outputs": [
    {
     "name": "stdout",
     "output_type": "stream",
     "text": [
      "the troop being immedy ord to adv wer soon across the ditch, and upon the breach at the sam inst with the ninety-fourth who had adv along the ditch.\n"
     ]
    }
   ],
   "source": [
    "from nltk.stem import LancasterStemmer\n",
    "porter = LancasterStemmer()\n",
    "text=\"The troops being immediately ordered to advance were soon across the ditch, and upon the breach at the same instant with the ninety-fourth who had advanced along the ditch.\"\n",
    "text=[porter.stem(token) for token in text.split(\" \")] #cling ring\n",
    "print(\" \".join(text))"
   ]
  }
 ],
 "metadata": {
  "kernelspec": {
   "display_name": "Python 3 (ipykernel)",
   "language": "python",
   "name": "python3"
  },
  "language_info": {
   "codemirror_mode": {
    "name": "ipython",
    "version": 3
   },
   "file_extension": ".py",
   "mimetype": "text/x-python",
   "name": "python",
   "nbconvert_exporter": "python",
   "pygments_lexer": "ipython3",
   "version": "3.9.7"
  }
 },
 "nbformat": 4,
 "nbformat_minor": 5
}
